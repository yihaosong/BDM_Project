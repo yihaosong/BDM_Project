{
 "cells": [
  {
   "cell_type": "code",
   "execution_count": 14,
   "metadata": {},
   "outputs": [
    {
     "data": {
      "text/plain": [
       "<pyspark.context.SparkContext at 0x10220c940>"
      ]
     },
     "execution_count": 14,
     "metadata": {},
     "output_type": "execute_result"
    }
   ],
   "source": [
    "sc"
   ]
  },
  {
   "cell_type": "code",
   "execution_count": 15,
   "metadata": {
    "collapsed": true
   },
   "outputs": [],
   "source": [
    "import matplotlib\n",
    "import matplotlib.pyplot as plt \n",
    "%matplotlib inline\n",
    "\n",
    "import seaborn as sns\n",
    "sns.set(style=\"whitegrid\")\n",
    "\n",
    "import fiona\n",
    "import fiona.crs\n",
    "import shapely\n",
    "\n",
    "import rtree\n",
    "import pandas as pd\n",
    "import geopandas as gpd"
   ]
  },
  {
   "cell_type": "code",
   "execution_count": 16,
   "metadata": {
    "collapsed": true
   },
   "outputs": [],
   "source": [
    "shapefile = 'neighborhoods.geojson'"
   ]
  },
  {
   "cell_type": "code",
   "execution_count": 17,
   "metadata": {
    "collapsed": true
   },
   "outputs": [],
   "source": [
    "zones = gpd.read_file(shapefile).to_crs(fiona.crs.from_epsg(2263))"
   ]
  },
  {
   "cell_type": "code",
   "execution_count": 18,
   "metadata": {
    "scrolled": true
   },
   "outputs": [
    {
     "data": {
      "text/plain": [
       "[1.7976931348623157e+308,\n",
       " 1.7976931348623157e+308,\n",
       " -1.7976931348623157e+308,\n",
       " -1.7976931348623157e+308]"
      ]
     },
     "execution_count": 18,
     "metadata": {},
     "output_type": "execute_result"
    }
   ],
   "source": [
    "index = rtree.Rtree()\n",
    "index.bounds"
   ]
  },
  {
   "cell_type": "code",
   "execution_count": 19,
   "metadata": {
    "collapsed": true
   },
   "outputs": [],
   "source": [
    "for idx, geometry in enumerate(zones.geometry):\n",
    "    index.insert(idx, geometry.bounds)"
   ]
  },
  {
   "cell_type": "code",
   "execution_count": 20,
   "metadata": {},
   "outputs": [
    {
     "data": {
      "text/plain": [
       "[913175.2100462909, 120128.37448660476, 1067382.5266380738, 272844.3751306288]"
      ]
     },
     "execution_count": 20,
     "metadata": {},
     "output_type": "execute_result"
    }
   ],
   "source": [
    "index.bounds"
   ]
  },
  {
   "cell_type": "code",
   "execution_count": 21,
   "metadata": {
    "collapsed": true
   },
   "outputs": [],
   "source": [
    "import pyproj\n",
    "proj = pyproj.Proj(init='epsg:2263', preserve_units=True)"
   ]
  },
  {
   "cell_type": "code",
   "execution_count": 33,
   "metadata": {
    "collapsed": true
   },
   "outputs": [],
   "source": [
    "def zones_rtree(shapeFile):\n",
    "    import rtree\n",
    "    import fiona.crs\n",
    "    import geopandas as gpd\n",
    "    index = rtree.Rtree()\n",
    "    neighborhood = gpd.read_file(shapeFile).to_crs(fiona.crs.from_epsg(2263))\n",
    "    for idx, geometry in enumerate(neighborhood.geometry):\n",
    "        index.insert(idx, geometry.bounds)\n",
    "    return (index, neighborhood)"
   ]
  },
  {
   "cell_type": "code",
   "execution_count": 40,
   "metadata": {
    "collapsed": true
   },
   "outputs": [],
   "source": [
    "def restaurantMapper(partitions):\n",
    "    import csv\n",
    "    import pyproj\n",
    "    import shapely.geometry as geom\n",
    "    proj = pyproj.Proj(init='epsg:2263', preserve_units=True)\n",
    "    index, neighborhood = zones_rtree('neighborhoods.geojson')\n",
    "    reader = csv.reader(partitions)\n",
    "    for row in reader:\n",
    "        if all((row[1], row[2])):\n",
    "            location = geom.Point(proj(float(row[2]), float(row[1])))\n",
    "            restaurant_zones = match_zone(location, index, neighborhood)\n",
    "            if restaurant_zones != -1:\n",
    "                yield(str(restaurant_zones), 1)"
   ]
  },
  {
   "cell_type": "code",
   "execution_count": 41,
   "metadata": {
    "collapsed": true
   },
   "outputs": [],
   "source": [
    "def match_zone(p, index, neighborhood):\n",
    "    match = index.intersection((p.x, p.y, p.x, p.y))\n",
    "    for idx in match:\n",
    "        if any(map(lambda x: x.contains(p), neighborhood.geometry[idx])):\n",
    "            return neighborhood['neighborhood'][idx]\n",
    "    return -1"
   ]
  },
  {
   "cell_type": "code",
   "execution_count": 42,
   "metadata": {
    "collapsed": true
   },
   "outputs": [],
   "source": [
    "restaurant_location = sc.textFile('NYCRestaurantsLocations.csv').cache()\n",
    "restaurant_count = restaurant_location.mapPartitions(restaurantMapper).reduceByKey(lambda a, b: a+b)"
   ]
  },
  {
   "cell_type": "code",
   "execution_count": 63,
   "metadata": {},
   "outputs": [
    {
     "data": {
      "text/plain": [
       "[('Allerton', 64),\n",
       " ('Arden Heights', 18),\n",
       " ('Arrochar', 21),\n",
       " ('Arverne', 9),\n",
       " ('Astoria', 417),\n",
       " ('Bath Beach', 149),\n",
       " ('Battery Park City', 55),\n",
       " ('Bay Ridge', 18),\n",
       " ('Bay Terrace', 24),\n",
       " ('Bay Terrace, Staten Island', 7)]"
      ]
     },
     "execution_count": 63,
     "metadata": {},
     "output_type": "execute_result"
    }
   ],
   "source": [
    "output = sorted(restaurant_count.collect())\n",
    "list(output[0:10])"
   ]
  },
  {
   "cell_type": "code",
   "execution_count": 98,
   "metadata": {
    "collapsed": true
   },
   "outputs": [],
   "source": [
    "def callMapper(partitions):\n",
    "    import csv\n",
    "    import pyproj\n",
    "    import shapely.geometry as geom\n",
    "    proj = pyproj.Proj(init='epsg:2263', preserve_units=True)\n",
    "    index, neighborhood = zones_rtree('neighborhoods.geojson')\n",
    "    reader = csv.reader(partitions)\n",
    "    next(reader)\n",
    "    for row in reader:\n",
    "        #print (row[53])\n",
    "        location = geom.Point(proj(float(row[52]), float(row[51])))\n",
    "        zone = match_zone(location, index, neighborhood)\n",
    "        if zone != -1:\n",
    "            yield (str(zone), 1)\n",
    "                                  "
   ]
  },
  {
   "cell_type": "code",
   "execution_count": 99,
   "metadata": {
    "collapsed": true
   },
   "outputs": [],
   "source": [
    "call = sc.textFile('new311.csv')\n",
    "call2 = call.filter(lambda x: not x.startswith('Unique Key') and x != '')\n",
    "final = call2.mapPartitions(callMapper).reduceByKey(lambda a, b: a+b)"
   ]
  },
  {
   "cell_type": "code",
   "execution_count": 100,
   "metadata": {
    "collapsed": true
   },
   "outputs": [],
   "source": [
    "result = final.join(restaurant_count)"
   ]
  },
  {
   "cell_type": "code",
   "execution_count": 101,
   "metadata": {
    "collapsed": true
   },
   "outputs": [],
   "source": [
    "fin_result = result.collect()"
   ]
  },
  {
   "cell_type": "code",
   "execution_count": 102,
   "metadata": {},
   "outputs": [
    {
     "data": {
      "text/plain": [
       "[('Forest Park', (7071, 2)),\n",
       " ('Flatiron District', (16158, 54)),\n",
       " ('Astoria', (131678, 417)),\n",
       " ('West Farms', (35274, 28)),\n",
       " ('Graniteville', (16760, 25)),\n",
       " ('Queens Village', (72730, 70)),\n",
       " ('Port Morris', (11056, 46)),\n",
       " ('Morrisania', (55012, 11)),\n",
       " ('Edgemere', (10317, 2)),\n",
       " ('Pleasant Plains', (3137, 33)),\n",
       " ('Floral Park', (18822, 24)),\n",
       " ('Midland Beach', (11837, 12)),\n",
       " ('Great Kills', (26949, 41)),\n",
       " ('Prospect Heights', (36386, 113)),\n",
       " ('East Morrisania', (39123, 12)),\n",
       " (\"Randall's Island\", (475, 58)),\n",
       " ('Sunnyside', (66724, 136)),\n",
       " ('Clason Point', (28188, 9)),\n",
       " ('Unionport', (41069, 51)),\n",
       " ('Williamsbridge', (70803, 54)),\n",
       " ('Van Nest', (32011, 27)),\n",
       " ('Gerritsen Beach', (10586, 13)),\n",
       " ('Fordham', (227865, 199)),\n",
       " ('Roosevelt Island', (2077, 16)),\n",
       " ('Brooklyn Heights', (26858, 94)),\n",
       " ('Chelsea', (115768, 905)),\n",
       " ('Hunts Point', (35118, 40)),\n",
       " ('Borough Park', (157647, 195)),\n",
       " ('Marine Park', (29467, 40)),\n",
       " ('Neponsit', (3369, 16)),\n",
       " ('West Village', (76028, 412)),\n",
       " ('Grymes Hill', (5709, 5)),\n",
       " ('Kew Gardens', (33021, 45)),\n",
       " ('Co-op City', (11467, 33)),\n",
       " ('Country Club', (9902, 3)),\n",
       " ('Tribeca', (38993, 282)),\n",
       " ('Williamsburg', (226871, 621)),\n",
       " ('Allerton', (73542, 64)),\n",
       " ('Fort Hamilton', (43768, 247)),\n",
       " ('Glendale', (58266, 63)),\n",
       " ('Bensonhurst', (98540, 47)),\n",
       " ('South Slope', (27963, 13)),\n",
       " ('Cypress Hills', (102390, 104)),\n",
       " ('Briarwood', (28896, 69)),\n",
       " ('Richmond Hill', (166058, 189)),\n",
       " ('Highbridge', (70577, 21)),\n",
       " ('Midwood', (132187, 91)),\n",
       " ('Todt Hill', (12687, 16)),\n",
       " ('Brighton Beach', (58128, 74)),\n",
       " ('Kensington', (75288, 66)),\n",
       " ('Arden Heights', (23928, 18)),\n",
       " ('Arverne', (21674, 9)),\n",
       " ('New Springville', (21834, 54)),\n",
       " ('Lower East Side', (81879, 330)),\n",
       " ('Tompkinsville', (14678, 16)),\n",
       " ('Castle Hill', (13083, 7)),\n",
       " ('Eastchester', (12333, 20)),\n",
       " ('East Flatbush', (312065, 271)),\n",
       " ('Coney Island', (29938, 40)),\n",
       " ('Douglaston', (20559, 31)),\n",
       " ('St. Albans', (63853, 58)),\n",
       " ('Ridgewood', (92703, 173)),\n",
       " ('SoHo', (44434, 266)),\n",
       " ('John F. Kennedy International Airport', (5140, 103)),\n",
       " ('Bedford-Stuyvesant', (366463, 325)),\n",
       " ('Vinegar Hill', (5293, 8)),\n",
       " ('University Heights', (68243, 22)),\n",
       " ('Rockaway Park', (24383, 16)),\n",
       " ('Sunset Park', (146200, 420)),\n",
       " ('Morris Park', (35854, 53)),\n",
       " ('Bushwick', (248029, 262)),\n",
       " ('Governors Island', (33, 3)),\n",
       " ('Columbia St', (8035, 20)),\n",
       " ('Bergen Beach', (19352, 14)),\n",
       " ('Theater District', (34497, 135)),\n",
       " ('Stapleton', (17032, 41)),\n",
       " ('Chinatown', (34288, 292)),\n",
       " ('Jamaica', (223390, 264)),\n",
       " ('Morris Heights', (84740, 52)),\n",
       " ('New Dorp Beach', (11858, 19)),\n",
       " ('Springfield Gardens', (45782, 44)),\n",
       " ('Woodlawn', (12407, 27)),\n",
       " ('Rossville', (21285, 24)),\n",
       " ('Fort Greene', (46941, 130)),\n",
       " ('Harlem', (447112, 300)),\n",
       " ('Rockaway Beach', (14705, 15)),\n",
       " ('Floyd Bennett Field', (1761, 4)),\n",
       " ('Park Slope', (65512, 354)),\n",
       " ('Rego Park', (50602, 80)),\n",
       " ('Concord', (12864, 17)),\n",
       " ('Latourette Park', (2633, 3)),\n",
       " ('Manhattan Beach', (10117, 12)),\n",
       " ('Kingsbridge', (158515, 129)),\n",
       " ('Prospect-Lefferts Gardens', (105589, 79)),\n",
       " ('Concourse', (68653, 26)),\n",
       " ('Park Hill', (13743, 14)),\n",
       " ('Gravesend', (119635, 161)),\n",
       " ('Rosedale', (37465, 34)),\n",
       " ('Far Rockaway', (53699, 26)),\n",
       " ('Financial District', (55969, 394)),\n",
       " ('Clinton Hill', (51239, 106)),\n",
       " ('Bay Terrace, Staten Island', (8851, 7)),\n",
       " ('Tremont', (50097, 59)),\n",
       " ('Bellerose', (30611, 42)),\n",
       " ('Randall Manor', (24442, 23)),\n",
       " ('Riverdale', (14240, 14)),\n",
       " ('Rosebank', (6857, 13)),\n",
       " ('Canarsie', (98386, 97)),\n",
       " ('Two Bridges', (9388, 18)),\n",
       " ('Inwood', (169036, 146)),\n",
       " ('Flatbush', (250070, 200)),\n",
       " ('Schuylerville', (17858, 19)),\n",
       " ('Maspeth', (83780, 186)),\n",
       " ('Washington Heights', (323460, 243)),\n",
       " ('Sea Gate', (4188, 3)),\n",
       " ('West Brighton', (23517, 44)),\n",
       " ('Carroll Gardens', (23617, 97)),\n",
       " ('Spuyten Duyvil', (7683, 8)),\n",
       " ('Breezy Point', (1825, 3)),\n",
       " ('East Harlem', (174179, 219)),\n",
       " ('North Riverdale', (12584, 29)),\n",
       " ('Central Park', (18736, 4)),\n",
       " ('Holliswood', (6451, 7)),\n",
       " ('Flushing Meadows Corona Park', (3936, 128)),\n",
       " ('Melrose', (23194, 26)),\n",
       " ('Stuyvesant Town', (10239, 3)),\n",
       " ('Cambria Heights', (27845, 23)),\n",
       " ('Little Neck', (13956, 36)),\n",
       " ('Broad Channel', (4036, 10)),\n",
       " ('Woodrow', (24407, 6)),\n",
       " ('Civic Center', (5675, 21)),\n",
       " ('Dyker Heights', (35825, 53)),\n",
       " ('Battery Park City', (8786, 55)),\n",
       " ('East Village', (142028, 869)),\n",
       " ('Pelham Gardens', (18188, 11)),\n",
       " ('Corona', (62793, 69)),\n",
       " ('Fresh Meadows', (31662, 59)),\n",
       " ('Wakefield', (116690, 122)),\n",
       " ('Midtown', (175672, 1039)),\n",
       " (\"Hell's Kitchen\", (116868, 1332)),\n",
       " ('Laurelton', (26312, 32)),\n",
       " ('Cobble Hill', (12337, 58)),\n",
       " ('Arrochar', (16599, 21)),\n",
       " ('Upper West Side', (238656, 608)),\n",
       " ('Belmont', (88661, 57)),\n",
       " ('New Dorp', (12817, 36)),\n",
       " ('Charleston', (3136, 9)),\n",
       " (\"Prince's Bay\", (15172, 12)),\n",
       " ('New Brighton', (9739, 4)),\n",
       " ('Jackson Heights', (107457, 261)),\n",
       " ('NoHo', (12177, 46)),\n",
       " ('Morningside Heights', (31594, 150)),\n",
       " ('Ellis Island', (7, 3)),\n",
       " ('Westerleigh', (12975, 19)),\n",
       " ('Gowanus', (31234, 8)),\n",
       " ('Bay Ridge', (85001, 18)),\n",
       " ('Soundview', (87044, 76)),\n",
       " ('South Ozone Park', (64973, 90)),\n",
       " ('Marble Hill', (16262, 6)),\n",
       " ('Nolita', (15123, 86)),\n",
       " (\"Bull's Head\", (20693, 48)),\n",
       " ('Howard Beach', (41483, 23)),\n",
       " ('Willowbrook', (3496, 1)),\n",
       " ('Cunningham Park', (2946, 2)),\n",
       " ('Forest Hills', (83653, 201)),\n",
       " ('Dongan Hills', (12741, 16)),\n",
       " ('LaGuardia Airport', (2384, 17)),\n",
       " ('Middle Village', (43290, 54)),\n",
       " ('Flatlands', (80096, 72)),\n",
       " ('Clifton', (17406, 11)),\n",
       " ('Grant City', (5131, 9)),\n",
       " ('Castleton Corners', (24240, 44)),\n",
       " ('Mariners Harbor', (29686, 13)),\n",
       " ('Parkchester', (93979, 97)),\n",
       " ('St. George', (26320, 62)),\n",
       " ('Murray Hill', (30091, 336)),\n",
       " ('Port Richmond', (27828, 53)),\n",
       " ('Downtown Brooklyn', (24577, 101)),\n",
       " ('Howland Hook', (2020, 5)),\n",
       " ('Sheepshead Bay', (169428, 288)),\n",
       " ('Flushing', (244491, 721)),\n",
       " ('College Point', (43927, 62)),\n",
       " ('Woodhaven', (57217, 68)),\n",
       " ('East New York', (218967, 131)),\n",
       " ('Bronxdale', (40828, 24)),\n",
       " ('Lighthouse Hill', (5217, 5)),\n",
       " ('Woodside', (61631, 114)),\n",
       " ('Green-Wood Cemetery', (1864, 6)),\n",
       " ('Greenpoint', (69790, 179)),\n",
       " ('Gramercy', (31571, 54)),\n",
       " ('DUMBO', (6316, 31)),\n",
       " ('Tottenville', (18058, 35)),\n",
       " ('Longwood', (134121, 144)),\n",
       " ('Brownsville', (98613, 78)),\n",
       " ('Pelham Bay', (26612, 46)),\n",
       " ('Ozone Park', (92833, 101)),\n",
       " ('Chelsea, Staten Island', (5372, 20)),\n",
       " ('Mount Eden', (54089, 64)),\n",
       " ('Van Cortlandt Park', (1658, 1)),\n",
       " ('Throgs Neck', (43211, 75)),\n",
       " ('Mount Hope', (79629, 38)),\n",
       " ('Bath Beach', (42798, 149)),\n",
       " ('Bayswater', (21243, 19)),\n",
       " ('Jamaica Estates', (28843, 109)),\n",
       " ('Norwood', (144791, 54)),\n",
       " ('Westchester Square', (28260, 44)),\n",
       " ('Boerum Hill', (25420, 152)),\n",
       " ('Shore Acres', (9700, 9)),\n",
       " ('Emerson Hill', (14763, 14)),\n",
       " ('Mill Basin', (16299, 40)),\n",
       " ('Jamaica Hills', (14443, 23)),\n",
       " ('Silver Lake', (5370, 9)),\n",
       " ('City Island', (12869, 30)),\n",
       " ('Freshkills Park', (2566, 7)),\n",
       " ('Crown Heights', (350196, 264)),\n",
       " ('Bay Terrace', (11689, 24)),\n",
       " ('South Beach', (12038, 22)),\n",
       " ('Kew Gardens Hills', (42744, 48)),\n",
       " ('Windsor Terrace', (18604, 57)),\n",
       " ('Hollis Hills', (8664, 7)),\n",
       " ('Bronx Park', (4510, 38)),\n",
       " ('Claremont Village', (61466, 14)),\n",
       " ('Red Hook', (19317, 42)),\n",
       " ('Richmondtown', (7329, 8)),\n",
       " ('Long Island City', (103633, 248)),\n",
       " ('Greenwich Village', (39080, 199)),\n",
       " ('Little Italy', (7807, 71)),\n",
       " ('Olinville', (23006, 9)),\n",
       " ('Pelham Bay Park', (1493, 5)),\n",
       " ('Ditmars Steinway', (66550, 134)),\n",
       " ('Oakwood', (15927, 6)),\n",
       " ('Elmhurst', (112500, 288)),\n",
       " ('Glen Oaks', (3076, 10)),\n",
       " ('East Elmhurst', (87527, 161)),\n",
       " ('Navy Yard', (1273, 3)),\n",
       " ('Baychester', (23663, 16)),\n",
       " ('Eltingville', (16110, 40)),\n",
       " ('Bayside', (74805, 176)),\n",
       " ('Hollis', (41136, 39)),\n",
       " ('Prospect Park', (7505, 14)),\n",
       " ('Edenwald', (24949, 9)),\n",
       " ('Bloomfield', (1377, 2)),\n",
       " ('Concourse Village', (96659, 171)),\n",
       " ('Fieldston', (9494, 42)),\n",
       " ('Upper East Side', (218407, 800)),\n",
       " ('Mott Haven', (71689, 42)),\n",
       " ('Kips Bay', (41875, 187)),\n",
       " ('Huguenot', (12283, 14)),\n",
       " ('Belle Harbor', (8772, 8)),\n",
       " ('Whitestone', (45911, 67))]"
      ]
     },
     "execution_count": 102,
     "metadata": {},
     "output_type": "execute_result"
    }
   ],
   "source": [
    "fin_result"
   ]
  },
  {
   "cell_type": "code",
   "execution_count": 129,
   "metadata": {
    "collapsed": true
   },
   "outputs": [],
   "source": [
    "from pandas import DataFrame\n",
    "data = DataFrame()\n",
    "data['restaurant'] = list(map(lambda x: x[1][1], fin_result))\n",
    "data['rat'] = list(map(lambda x: x[1][0], fin_result))"
   ]
  },
  {
   "cell_type": "code",
   "execution_count": 132,
   "metadata": {},
   "outputs": [
    {
     "data": {
      "text/html": [
       "<div>\n",
       "<style>\n",
       "    .dataframe thead tr:only-child th {\n",
       "        text-align: right;\n",
       "    }\n",
       "\n",
       "    .dataframe thead th {\n",
       "        text-align: left;\n",
       "    }\n",
       "\n",
       "    .dataframe tbody tr th {\n",
       "        vertical-align: top;\n",
       "    }\n",
       "</style>\n",
       "<table border=\"1\" class=\"dataframe\">\n",
       "  <thead>\n",
       "    <tr style=\"text-align: right;\">\n",
       "      <th></th>\n",
       "      <th>restaurant</th>\n",
       "      <th>rat</th>\n",
       "    </tr>\n",
       "  </thead>\n",
       "  <tbody>\n",
       "    <tr>\n",
       "      <th>0</th>\n",
       "      <td>2</td>\n",
       "      <td>7071</td>\n",
       "    </tr>\n",
       "    <tr>\n",
       "      <th>1</th>\n",
       "      <td>54</td>\n",
       "      <td>16158</td>\n",
       "    </tr>\n",
       "    <tr>\n",
       "      <th>2</th>\n",
       "      <td>417</td>\n",
       "      <td>131678</td>\n",
       "    </tr>\n",
       "    <tr>\n",
       "      <th>3</th>\n",
       "      <td>28</td>\n",
       "      <td>35274</td>\n",
       "    </tr>\n",
       "    <tr>\n",
       "      <th>4</th>\n",
       "      <td>25</td>\n",
       "      <td>16760</td>\n",
       "    </tr>\n",
       "  </tbody>\n",
       "</table>\n",
       "</div>"
      ],
      "text/plain": [
       "   restaurant     rat\n",
       "0           2    7071\n",
       "1          54   16158\n",
       "2         417  131678\n",
       "3          28   35274\n",
       "4          25   16760"
      ]
     },
     "execution_count": 132,
     "metadata": {},
     "output_type": "execute_result"
    }
   ],
   "source": [
    "data.head()"
   ]
  },
  {
   "cell_type": "code",
   "execution_count": 133,
   "metadata": {
    "collapsed": true
   },
   "outputs": [],
   "source": [
    "data.to_csv('rat_restaurant.csv')"
   ]
  },
  {
   "cell_type": "code",
   "execution_count": 134,
   "metadata": {},
   "outputs": [
    {
     "data": {
      "image/png": "[encoded data removed]",
      "text/plain": [
       "<matplotlib.figure.Figure at 0x10c86cb00>"
      ]
     },
     "metadata": {},
     "output_type": "display_data"
    }
   ],
   "source": [
    "plt.figure(figsize=(8, 6))\n",
    "bill_size = data[['restaurant', 'rat']]\n",
    "def data_stream(bs, chunk_size=50):\n",
    "    for i in range(0, len(bs), chunk_size):\n",
    "        yield bs[i:i+chunk_size]\n",
    "\n",
    "for chunk in data_stream(data):\n",
    "    sns.regplot(x=\"restaurant\", y=\"rat\", data=chunk, x_jitter=.2, fit_reg=True, scatter_kws={\"s\": 50})"
   ]
  },
  {
   "cell_type": "code",
   "execution_count": null,
   "metadata": {
    "collapsed": true
   },
   "outputs": [],
   "source": []
  }
 ],
 "metadata": {
  "kernelspec": {
   "display_name": "Python 2",
   "language": "python",
   "name": "python2"
  },
  "language_info": {
   "codemirror_mode": {
    "name": "ipython",
    "version": 2
   },
   "file_extension": ".py",
   "mimetype": "text/x-python",
   "name": "python",
   "nbconvert_exporter": "python",
   "pygments_lexer": "ipython2",
   "version": "2.7.13"
  }
 },
 "nbformat": 4,
 "nbformat_minor": 2
}
